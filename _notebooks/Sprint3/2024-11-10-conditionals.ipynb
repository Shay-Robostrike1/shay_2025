{
 "cells": [
  {
   "cell_type": "raw",
   "metadata": {
    "vscode": {
     "languageId": "raw"
    }
   },
   "source": [
    "---\n",
    "comments: True\n",
    "layout: post\n",
    "title: conditionals lesson fixed\n",
    "description: An introduction to JavaScript conditionals\n",
    "permalink: /csse/javascript/fundamentals/conditionals\n",
    "type: ccc\n",
    "---"
   ]
  },
  {
   "cell_type": "markdown",
   "metadata": {},
   "source": [
    "<div style=\"display: flex; flex-wrap: wrap; gap: 10px; justify-content: center\">\n",
    "    <a href=\"{{site.baseurl}}/csse/javascript/fundamentals/conditionals/hacks\" style=\"text-decoration: none;\">\n",
    "        <div class=\"glow-button\" style=\"background: linear-gradient(135deg, #8E44AD, #3498DB); color: #FFFFFF; padding: 15px 30px; border-radius: 10px; font-weight: bold; text-align: center; position: relative; overflow: hidden; box-shadow: 0 4px 10px rgba(0, 0, 0, 0.2); transition: transform 0.3s, box-shadow 0.3s;\">\n",
    "            <span style=\"font-size: 24px; position: relative; z-index: 1; color: #FFFFFF; text-shadow: 0 0 8px #FFFFFF, 0 0 16px #8E44AD;\">\n",
    "                Hacks\n",
    "            </span>\n",
    "            <span class=\"glow-effect\" style=\"position: absolute; top: 50%; left: 50%; width: 100%; height: 100%; border-radius: 10px; background: rgba(255, 255, 255, 0.1); opacity: 0; transition: opacity 0.3s;\"></span>\n",
    "        </div>\n",
    "    </a>\n",
    "</div>\n",
    "<style>\n",
    "    .glow-button {\n",
    "        position: relative;\n",
    "        z-index: 1;\n",
    "    }\n",
    "    .glow-button:hover {\n",
    "        transform: translateY(-4px);\n",
    "        box-shadow: 0 8px 20px rgba(0, 0, 0, 0.4);\n",
    "    }\n",
    "    .glow-button:hover .glow-effect {\n",
    "        opacity: 1;\n",
    "    }"
   ]
  },
  {
   "cell_type": "markdown",
   "metadata": {},
   "source": [
    "# Lesson preview \n",
    "\n",
    "Introduction to Conditionals\n",
    "In programming, conditionals enable us to make decisions and control the flow of our code based on specific conditions. Real life descision making can be used to visualize how this works, like deciding to bring a water bottle somewhere or not. Conditionals allow us to create dynamic paths and interactions in programs, making the user experince better and the content more interactive\n",
    "Imagine building an RPG game where players make choices that influence their experience: finding an item might allow access to a hidden area, or a character's attributes might determine the success of an action. These scenarios are created through conditionals, enabling your code to respond to different states and values.\n",
    "In this lesson, we’ll explore the main types of conditional statements and logical operators available in JavaScript:\n",
    "\n",
    "* Basic if Statements – Execute code only if a certain condition is met, serving as the foundation for decision-making.\n",
    "* if-else Statements – Create an alternative path in your code if the condition is not met, adding flexibility to your logic.\n",
    "* else if Statements – Extend decision-making further by checking multiple conditions in a sequence, ideal for situations with more than two possible outcomes.\n",
    "* Switch Statements – A clear alternative to multiple else if conditions when dealing with multiple possible values for a single variable. Switch statements can simplify your code and improve readability.\n",
    "* Ternary Operators – A compact, single-line conditional that evaluates one expression if true and another if false. Ternary operators are great for brief, simple conditionals and can make your code more concise.\n",
    "\n",
    "Each of these conditionals has unique strengths and use cases, and mastering them will allow you to create more complex, interactive code structures. By the end of this lesson, you’ll be able to design decision-based scenarios and workflows that will be crucial in projects like your RPG game."
   ]
  },
  {
   "cell_type": "markdown",
   "metadata": {},
   "source": [
    "## Hack directions\n",
    "\n",
    "1. add a \"speed\" variable to the hack below"
   ]
  },
  {
   "cell_type": "markdown",
   "metadata": {},
   "source": [
    "<script src=\"https://utteranc.es/client.js\"\n",
    "        repo=\"mrboiisthebest/william_2025\"\n",
    "        issue-term=\"title\"\n",
    "        label=\"blogpost-comment\"\n",
    "        theme=\"github-dark\"\n",
    "        crossorigin=\"anonymous\"\n",
    "        async>\n",
    "</script>"
   ]
  },
  {
   "cell_type": "code",
   "execution_count": null,
   "metadata": {
    "vscode": {
     "languageId": "html"
    }
   },
   "outputs": [],
   "source": [
    "%%html\n",
    "\n",
    "<output id=\"output\"></output>\n",
    "\n",
    "<script>\n",
    "function intializeData(data = null) {\n",
    "    // Define default values\n",
    "    let scaleFactor = 9/16;\n",
    "    let animationRate = 1;\n",
    "    let position = [0, 0];\n",
    "\n",
    "    // Check if data is provided\n",
    "    if (data) {\n",
    "        scaleFactor = data.SCALE_FACTOR || scaleFactor;\n",
    "        animationRate = data.ANIMATION_RATE || animationRate;\n",
    "        position = data.INIT_POSITION || position;\n",
    "    }\n",
    "\n",
    "    document.getElementById(\"output\").innerHTML = `\n",
    "        <p>Scale Factor: ${scaleFactor}</p>z\n",
    "        <p>Animation Rate: ${animationRate}</p>\n",
    "        <p>Initial Position: ${position}</p>\n",
    "    `;\n",
    "}\n",
    "\n",
    "var data = {\n",
    "    SCALE_FACTOR: 1/1,\n",
    "    ANIMATION_RATE: 25,\n",
    "    INIT_POSITION: [100, 100]\n",
    "}   \n",
    "\n",
    "// Uncomment one of the following lines to test the if statement in the function\n",
    "//intializeData();\n",
    "intializeData(data);\n",
    "\n",
    "</script>"
   ]
  },
  {
   "cell_type": "code",
   "execution_count": null,
   "metadata": {
    "vscode": {
     "languageId": "javascript"
    }
   },
   "outputs": [],
   "source": [
    "%%javascript\n",
    "\n",
    "class GameObject {\n",
    "    constructor() {\n",
    "        this.velocity = { x: 0, y: 0 };\n",
    "        this.direction = '';\n",
    "        this.xVelocity = 1;\n",
    "        this.yVelocity = 1;\n",
    "    }\n",
    "\n",
    "    handleKeyDown({ keyCode }) {\n",
    "        switch (keyCode) {\n",
    "            case 87: // 'W' key\n",
    "                \n",
    "                this.direction = 'up';\n",
    "                break;\n",
    "            case 65: // 'A' key\n",
    "        \n",
    "                this.direction = 'left';\n",
    "                break;\n",
    "            case 83: // 'S' key\n",
    "               \n",
    "                this.direction = 'down';\n",
    "                break;\n",
    "            case 68: // 'D' key\n",
    "              \n",
    "                this.direction = 'right';\n",
    "                break;\n",
    "        }\n",
    "    }\n",
    "}\n",
    "\n",
    "// Example usage\n",
    "const gameObject = new GameObject();\n",
    "console.log('Initial State:', gameObject);\n",
    "\n",
    "gameObject.handleKeyDown({ keyCode: 87 }); // Simulate 'W' key press\n",
    "console.log('After W Key Press:', gameObject);\n",
    "\n",
    "gameObject.handleKeyDown({ keyCode: 65 }); // Simulate 'A' key press\n",
    "console.log('After A Key Press:', gameObject);\n",
    "\n",
    "gameObject.handleKeyDown({ keyCode: 83 }); // Simulate 'S' key press\n",
    "console.log('After S Key Press:', gameObject);\n",
    "\n",
    "gameObject.handleKeyDown({ keyCode: 68 }); // Simulate 'D' key press\n",
    "console.log('After D Key Press:', gameObject);"
   ]
  },
  {
   "cell_type": "markdown",
   "metadata": {},
   "source": [
    "## Popcorn Hack\n",
    "\n",
    "On if statement you can think of another variable to add to defualts. if you can't think of anything add \"speed\" \n",
    "\n",
    "On switch statement can you add conditions for IJKL keys.\n"
   ]
  }
 ],
 "metadata": {
  "kernelspec": {
   "display_name": "venv",
   "language": "python",
   "name": "python3"
  },
  "language_info": {
   "codemirror_mode": {
    "name": "ipython",
    "version": 3
   },
   "file_extension": ".py",
   "mimetype": "text/x-python",
   "name": "python",
   "nbconvert_exporter": "python",
   "pygments_lexer": "ipython3",
   "version": "3.10.12"
  }
 },
 "nbformat": 4,
 "nbformat_minor": 2
}
