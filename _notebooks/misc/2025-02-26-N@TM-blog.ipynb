{
 "cells": [
  {
   "cell_type": "code",
   "execution_count": null,
   "metadata": {
    "vscode": {
     "languageId": "plaintext"
    }
   },
   "outputs": [],
   "source": [
    "---\n",
    "layout: post\n",
    "title: game work blog\n",
    "description: blog on my work for presenting at night at the musuem\n",
    "categories: \n",
    "---"
   ]
  },
  {
   "cell_type": "markdown",
   "metadata": {},
   "source": [
    "## AdventureGame work\n",
    "\n",
    "### My work on the Nighthawk coders starwars level\n",
    "I have been working on making a Star-Wars themed level in the nighthawk coders site's adventure game. I have been working on the base content and objects of the game up until now, and the level world itself is done, but there's the features to add for fun gameplay. These include a unique multiplayer system and additional features\n",
    "\n",
    "### Future additions\n",
    "I have been working on adding a multiplayer feature, in which two players, one with WASD and the other with the arrow keys can compete in the game. One player will be controlling an Imperial anti-air turret and the other will be controlling the already implimented Rebel snowspeeder. The idea is that the turret player will attempt to shoot down the snowspeeder, while the snowspeeder player will be trying to destroy the turret emplacement. Whoever succedes first will win, and then the game will reset. leaderboards and a score system could be implimented once these plans have been made. \n",
    "\n"
   ]
  }
 ],
 "metadata": {
  "language_info": {
   "name": "python"
  }
 },
 "nbformat": 4,
 "nbformat_minor": 2
}
