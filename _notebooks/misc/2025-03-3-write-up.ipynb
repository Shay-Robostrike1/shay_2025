{
 "cells": [
  {
   "cell_type": "code",
   "execution_count": null,
   "metadata": {
    "vscode": {
     "languageId": "plaintext"
    }
   },
   "outputs": [],
   "source": [
    "---\n",
    "layout: post\n",
    "title: live reveiw write up\n",
    "description: Reveiw of my work this trimester\n",
    "categories:\n",
    "---"
   ]
  },
  {
   "cell_type": "markdown",
   "metadata": {},
   "source": [
    "## Tri 2 work\n",
    "Over the course of trimester 2 I have worked on many things. \n",
    "\n",
    "### 5 things I have done\n",
    "\n",
    "1. trimester 1 setup taught me how to start a project and ended up being the most valuble thing i learned, because regardless of everything else you need to know how to start a project\n",
    "\n",
    "2. the tri 1 student teaching hacks and stuff were a great learning opportunity, both making and doing the hacks and homework were good excersizes in coding, code structuring, different uses for things,  and learning how to distrubute files and works\n",
    "\n",
    "\n",
    "3. The RPG game was a good playground to learn sprites and backgrounds and NPCS and other integral game assets\n",
    "\n",
    "4. Making my homepage nice involved making classes for the fancy buttons, which was the most learning about classes that I did, and had a good result which was a clean streamlined professional looking homepage\n",
    "\n",
    "5. My work on platforme4x and the nighthawk coders RPG put all of my skills together to properly do software development. One shortcoming was how fixated i would get on images and artstyle consistency. although the platformer taught me to always use source control better that way my changes actually go through \n",
    "\n",
    "\n",
    "### My latest game feature \n",
    "I have been working on adding a turret to the starwars game-in-game, and have done some of my own sprite making to create a good sprite for the turret, which was meant to be the main objective of the game to destroy. Currently this feature is semi-implimented with the turret being animated but having no way to destroy it. despite it's incompleteness I think this shows how I have \n",
    "\n",
    "### retrospective\n",
    "Looking back I have done satisfactory work but it does not reflect my true capebilities. While i've done quite a few good things there are shortcomings that I will try to avoid in the future. I need to document my work better and do more planning and things like burndown lists. \n",
    "\n",
    "### Next Comp sci class\n",
    "I am taking CSP next year and want to do better than I did this year, while this year my work was satisfactory I want to do much more in CSP next year and want to improve in the areas I didn't do as good in this year. mainly project managment and organization as those were my weak points this year. I'm confident in my ability to use the tools properly but I need to work on organizing my repository and projects. Once I improve on this I think I will be doing things to my full potential and hope to go above what is asked of me. I have also had some struggles in teamwork but those were in part due to eveyrone on the team including me. I also want to improve in that field and develop the skills to lead a team to a successful project.\n",
    "\n",
    "### final point\n",
    "I have taken interest and reviwed many people's projects, given feedback and left comments, and helped with problems or bugs. \n",
    "I have not done a good job organizing my final project things\n",
    "I have reflected on what i've done so far and thought about the next comp sci class I will take. \n",
    "Several times I have mentioned my strengths and weaknesses in this class\n",
    "Very few plans have been laid out for my projects but I do have an idea of what I want to do going forward with my games\n",
    "I have not given a pitch for college articulation and am unprepared for that\n",
    "I have not sent a sumary 24 hours in advance of the live review\n",
    "Below under self evaluation is an honest assesment of what I have done, listing points and reasoning\n",
    "I have not been able to hilight all 10 points here but I've given it my best shot\n",
    "\n",
    "#### blog links\n",
    "game progress blog. somewhat incomplete but has a general outline of what i have been doing on the star wars game level. unfortunately has no draw.io\n",
    "https://shay-robostrike1.github.io/shay_2025/none/2025/02/26/N@TM-blog_IPYNB_2_.html\n",
    "\n",
    "classes homework. this was my favorite lesson to do. it proved a very valuble skill to learn as it helped simplify the fancy buttons on my homepage\n",
    "https://shay-robostrike1.github.io/shay_2025/none/2024/11/04/classes-hw_IPYNB_2_.html\n",
    "\n",
    "conditionals lesson that I helped make and teach. I have lost the other two parts of the lesson\n",
    "https://shay-robostrike1.github.io/shay_2025/csse/javascript/fundamentals/conditionals\n",
    "\n",
    "comments on my work from the most recent night at the musuem\n",
    "https://github.com/Shay-Robostrike1/shay_2025/issues/12\n",
    "\n",
    "I have no burndown lists\n",
    "\n",
    "### self evaluation\n",
    "I have not done good on many aspects, and still do not entirely understand some things. Many things have gone unfixed and undone, but I have tried and done several things good, and because of this i will give myself a **7.5/10**.\n",
    "**3.5 points for the 5 things I did this trimester as I am missing burndown lists and some other things**\n",
    "**2 points for the inclusion of my latest game feature**\n",
    "**.5 points for the game blog write up as it is lacking a draw.io**\n",
    "**1 point for N@TM feedback as I got a lot of positive feedback there**\n",
    "**.5 point for the final point as I have only done some things on that list and am lacking around half**\n"
   ]
  }
 ],
 "metadata": {
  "language_info": {
   "name": "python"
  }
 },
 "nbformat": 4,
 "nbformat_minor": 2
}
