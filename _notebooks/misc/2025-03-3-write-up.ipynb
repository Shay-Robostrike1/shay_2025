{
 "cells": [
  {
   "cell_type": "code",
   "execution_count": null,
   "metadata": {
    "vscode": {
     "languageId": "plaintext"
    }
   },
   "outputs": [],
   "source": [
    "---\n",
    "layout: post\n",
    "title: live reveiw write up\n",
    "description: Reveiw of my work this trimester\n",
    "categories:\n",
    "---"
   ]
  },
  {
   "cell_type": "markdown",
   "metadata": {},
   "source": [
    "## Tri 2 work\n",
    "Over the course of trimester 2 I have worked on many things. \n",
    "\n",
    "### 5 things I have done\n",
    "\n",
    "1. trimester 1 setup taught me how to start a project and ended up being the most valuble thing i learned, because regardless of everything else you need to know how to start a project\n",
    "\n",
    "2. the tri 1 student teaching hacks and stuff were a great learning opportunity, both making and doing the hacks and homework were good excersizes in coding, code structuring, different uses for things,  and learning how to distrubute files and works\n",
    "\n",
    "\n",
    "3. The RPG game was a good playground to learn sprites and backgrounds and NPCS and other integral game assets\n",
    "\n",
    "4. Making my homepage nice involved making classes for the fancy buttons, which was the most learning about classes that I did, and had a good result which was a clean streamlined professional looking homepage\n",
    "\n",
    "5. My work on platforme4x and the nighthawk coders RPG put all of my skills together to properly do software development. One shortcoming was how fixated i would get on images and artstyle consistency. although the platformer taught me to always use source control better that way my changes actually go through \n",
    "\n",
    "\n",
    "### My latest game feature \n",
    "I have been working on adding a turret to the starwars game-in-game, and have done some of my own sprite making to create a good sprite for the turret, which was meant to be the main objective of the game to destroy. Currently this feature is semi-implimented with the turret being animated but having no way to destroy it. despite it's incompleteness I think this shows how I have \n",
    "\n",
    "### self evaluation\n",
    "I have not done good on many aspects, and still do not entirely understand some things. Many things have gone unfixed and undone, and because of this i will give myself a 7.6/10\n",
    "\n",
    "\n",
    "#### blog links\n",
    "game progress blog. somewhat incomplete but has a general outline of what i have been doing on the star wars game level. unfortunately has no draw.io\n",
    "https://shay-robostrike1.github.io/shay_2025/none/2025/02/26/N@TM-blog_IPYNB_2_.html\n",
    "\n",
    "classes homework. this was my favorite lesson to do. it proved a very valuble skill to learn as it helped simplify the fancy buttons on my homepage\n",
    "https://shay-robostrike1.github.io/shay_2025/none/2024/11/04/classes-hw_IPYNB_2_.html\n",
    "\n",
    "\n",
    "\n"
   ]
  }
 ],
 "metadata": {
  "language_info": {
   "name": "python"
  }
 },
 "nbformat": 4,
 "nbformat_minor": 2
}
